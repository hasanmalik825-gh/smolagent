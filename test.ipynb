{
 "cells": [
  {
   "cell_type": "code",
   "execution_count": 10,
   "metadata": {},
   "outputs": [
    {
     "name": "stdout",
     "output_type": "stream",
     "text": [
      "Collecting yfinance\n",
      "  Downloading yfinance-0.2.53-py2.py3-none-any.whl.metadata (5.8 kB)\n",
      "Requirement already satisfied: pandas>=1.3.0 in c:\\users\\homepc\\appdata\\local\\programs\\python\\python311\\lib\\site-packages (from yfinance) (2.2.3)\n",
      "Requirement already satisfied: numpy>=1.16.5 in c:\\users\\homepc\\appdata\\local\\programs\\python\\python311\\lib\\site-packages (from yfinance) (1.26.4)\n",
      "Requirement already satisfied: requests>=2.31 in c:\\users\\homepc\\appdata\\local\\programs\\python\\python311\\lib\\site-packages (from yfinance) (2.32.3)\n",
      "Collecting multitasking>=0.0.7 (from yfinance)\n",
      "  Downloading multitasking-0.0.11-py3-none-any.whl.metadata (5.5 kB)\n",
      "Requirement already satisfied: platformdirs>=2.0.0 in c:\\users\\homepc\\appdata\\roaming\\python\\python311\\site-packages (from yfinance) (4.3.6)\n",
      "Requirement already satisfied: pytz>=2022.5 in c:\\users\\homepc\\appdata\\local\\programs\\python\\python311\\lib\\site-packages (from yfinance) (2024.2)\n",
      "Collecting frozendict>=2.3.4 (from yfinance)\n",
      "  Downloading frozendict-2.4.6-py311-none-any.whl.metadata (23 kB)\n",
      "Collecting peewee>=3.16.2 (from yfinance)\n",
      "  Downloading peewee-3.17.9.tar.gz (3.0 MB)\n",
      "     ---------------------------------------- 0.0/3.0 MB ? eta -:--:--\n",
      "     ---------------------------------------- 0.0/3.0 MB ? eta -:--:--\n",
      "     --- ------------------------------------ 0.3/3.0 MB ? eta -:--:--\n",
      "     ------ --------------------------------- 0.5/3.0 MB 670.4 kB/s eta 0:00:04\n",
      "     ------ --------------------------------- 0.5/3.0 MB 670.4 kB/s eta 0:00:04\n",
      "     ---------- ----------------------------- 0.8/3.0 MB 729.2 kB/s eta 0:00:04\n",
      "     ---------- ----------------------------- 0.8/3.0 MB 729.2 kB/s eta 0:00:04\n",
      "     ------------- -------------------------- 1.0/3.0 MB 739.8 kB/s eta 0:00:03\n",
      "     ----------------- ---------------------- 1.3/3.0 MB 808.5 kB/s eta 0:00:03\n",
      "     ------------------------ --------------- 1.8/3.0 MB 977.5 kB/s eta 0:00:02\n",
      "     --------------------------- ------------ 2.1/3.0 MB 978.7 kB/s eta 0:00:01\n",
      "     --------------------------- ------------ 2.1/3.0 MB 978.7 kB/s eta 0:00:01\n",
      "     ------------------------------- -------- 2.4/3.0 MB 958.5 kB/s eta 0:00:01\n",
      "     ------------------------------- -------- 2.4/3.0 MB 958.5 kB/s eta 0:00:01\n",
      "     ---------------------------------- ----- 2.6/3.0 MB 883.0 kB/s eta 0:00:01\n",
      "     ---------------------------------- ----- 2.6/3.0 MB 883.0 kB/s eta 0:00:01\n",
      "     -------------------------------------- - 2.9/3.0 MB 822.3 kB/s eta 0:00:01\n",
      "     ---------------------------------------- 3.0/3.0 MB 815.1 kB/s eta 0:00:00\n",
      "  Installing build dependencies: started\n",
      "  Installing build dependencies: finished with status 'done'\n",
      "  Getting requirements to build wheel: started\n",
      "  Getting requirements to build wheel: finished with status 'done'\n",
      "  Preparing metadata (pyproject.toml): started\n",
      "  Preparing metadata (pyproject.toml): finished with status 'done'\n",
      "Requirement already satisfied: beautifulsoup4>=4.11.1 in c:\\users\\homepc\\appdata\\local\\programs\\python\\python311\\lib\\site-packages (from yfinance) (4.12.3)\n",
      "Requirement already satisfied: soupsieve>1.2 in c:\\users\\homepc\\appdata\\local\\programs\\python\\python311\\lib\\site-packages (from beautifulsoup4>=4.11.1->yfinance) (2.6)\n",
      "Requirement already satisfied: python-dateutil>=2.8.2 in c:\\users\\homepc\\appdata\\roaming\\python\\python311\\site-packages (from pandas>=1.3.0->yfinance) (2.9.0.post0)\n",
      "Requirement already satisfied: tzdata>=2022.7 in c:\\users\\homepc\\appdata\\local\\programs\\python\\python311\\lib\\site-packages (from pandas>=1.3.0->yfinance) (2024.2)\n",
      "Requirement already satisfied: charset-normalizer<4,>=2 in c:\\users\\homepc\\appdata\\local\\programs\\python\\python311\\lib\\site-packages (from requests>=2.31->yfinance) (3.4.0)\n",
      "Requirement already satisfied: idna<4,>=2.5 in c:\\users\\homepc\\appdata\\local\\programs\\python\\python311\\lib\\site-packages (from requests>=2.31->yfinance) (3.10)\n",
      "Requirement already satisfied: urllib3<3,>=1.21.1 in c:\\users\\homepc\\appdata\\local\\programs\\python\\python311\\lib\\site-packages (from requests>=2.31->yfinance) (2.2.3)\n",
      "Requirement already satisfied: certifi>=2017.4.17 in c:\\users\\homepc\\appdata\\local\\programs\\python\\python311\\lib\\site-packages (from requests>=2.31->yfinance) (2024.8.30)\n",
      "Requirement already satisfied: six>=1.5 in c:\\users\\homepc\\appdata\\roaming\\python\\python311\\site-packages (from python-dateutil>=2.8.2->pandas>=1.3.0->yfinance) (1.16.0)\n",
      "Downloading yfinance-0.2.53-py2.py3-none-any.whl (108 kB)\n",
      "Downloading frozendict-2.4.6-py311-none-any.whl (16 kB)\n",
      "Downloading multitasking-0.0.11-py3-none-any.whl (8.5 kB)\n",
      "Building wheels for collected packages: peewee\n",
      "  Building wheel for peewee (pyproject.toml): started\n",
      "  Building wheel for peewee (pyproject.toml): finished with status 'done'\n",
      "  Created wheel for peewee: filename=peewee-3.17.9-py3-none-any.whl size=139096 sha256=29a4719e5b3df9682254f061dc1a51196a8b298f14f6452d51d027969ae8bb41\n",
      "  Stored in directory: c:\\users\\homepc\\appdata\\local\\pip\\cache\\wheels\\f4\\14\\e4\\50c88c865833085aeb91e2bd40e3a683ff434806386b8ee7bc\n",
      "Successfully built peewee\n",
      "Installing collected packages: peewee, multitasking, frozendict, yfinance\n",
      "Successfully installed frozendict-2.4.6 multitasking-0.0.11 peewee-3.17.9 yfinance-0.2.53\n",
      "Note: you may need to restart the kernel to use updated packages.\n"
     ]
    }
   ],
   "source": [
    "!pip install yfinance"
   ]
  },
  {
   "cell_type": "code",
   "execution_count": 28,
   "metadata": {},
   "outputs": [],
   "source": [
    "import yfinance as yf\n",
    "from datetime import datetime\n",
    "\n",
    "def get_stock_info(symbol: str)-> dict:\n",
    "    \"\"\"\n",
    "    A tool that gets current stock information for a given symbol.\n",
    "    \n",
    "    Args:\n",
    "        symbol (str): Stock symbol (e.g., 'AAPL' for Apple)\n",
    "    \"\"\"\n",
    "    try:\n",
    "        # Create ticker object\n",
    "        ticker = yf.Ticker(symbol)\n",
    "        # Get current stock info\n",
    "        info = ticker.info\n",
    "        current_price = info.get('currentPrice', 'NA')\n",
    "        market_cap = info.get('marketCap', 'NA')        \n",
    "        # Get today's data\n",
    "        today_data = ticker.history(period='1d')\n",
    "            \n",
    "        return {\n",
    "            \"Stock\": symbol.upper(),\n",
    "            \"Current Price\": current_price,\n",
    "            \"Today's High\": today_data['High'].iloc[0] or \"NA\",\n",
    "            \"Today's Low\": today_data['Low'].iloc[0] or \"NA\",\n",
    "            \"Volume\": today_data['Volume'].iloc[0] or \"NA\",\n",
    "            \"MarketCap\": market_cap\n",
    "        }\n",
    "    except Exception as e:\n",
    "        print(f\"Error fetching data for {symbol}: {str(e)}\")"
   ]
  },
  {
   "cell_type": "code",
   "execution_count": 29,
   "metadata": {},
   "outputs": [
    {
     "data": {
      "text/plain": [
       "{'Stock': 'ETH',\n",
       " 'Current Price': 'NA',\n",
       " \"Today's High\": 26.31999969482422,\n",
       " \"Today's Low\": 25.365999221801758,\n",
       " 'Volume': 1148800,\n",
       " 'MarketCap': 'NA'}"
      ]
     },
     "execution_count": 29,
     "metadata": {},
     "output_type": "execute_result"
    }
   ],
   "source": [
    "get_stock_info('eth')"
   ]
  },
  {
   "cell_type": "code",
   "execution_count": null,
   "metadata": {},
   "outputs": [],
   "source": []
  },
  {
   "cell_type": "code",
   "execution_count": 12,
   "metadata": {},
   "outputs": [
    {
     "name": "stdout",
     "output_type": "stream",
     "text": [
      "Stock Market Information\n",
      "========================================\n",
      "\n",
      "Stock Information for AAPL\n",
      "========================================\n",
      "Current Price: $244.6\n",
      "Previous Close: $241.53\n",
      "Day's High: $245.55\n",
      "Day's Low: $240.99\n",
      "Volume: 40,838,100\n",
      "Market Cap: $3674.41B\n",
      "\n",
      "Last Updated: 2025-02-17 21:46:59\n",
      "\n"
     ]
    },
    {
     "name": "stderr",
     "output_type": "stream",
     "text": [
      "C:\\Users\\HomePC\\AppData\\Local\\Temp\\ipykernel_22112\\1949323000.py:30: FutureWarning: Series.__getitem__ treating keys as positions is deprecated. In a future version, integer keys will always be treated as labels (consistent with DataFrame behavior). To access a value by position, use `ser.iloc[pos]`\n",
      "  print(f\"Day's High: ${today_data['High'][0]:.2f}\")\n",
      "C:\\Users\\HomePC\\AppData\\Local\\Temp\\ipykernel_22112\\1949323000.py:31: FutureWarning: Series.__getitem__ treating keys as positions is deprecated. In a future version, integer keys will always be treated as labels (consistent with DataFrame behavior). To access a value by position, use `ser.iloc[pos]`\n",
      "  print(f\"Day's Low: ${today_data['Low'][0]:.2f}\")\n",
      "C:\\Users\\HomePC\\AppData\\Local\\Temp\\ipykernel_22112\\1949323000.py:32: FutureWarning: Series.__getitem__ treating keys as positions is deprecated. In a future version, integer keys will always be treated as labels (consistent with DataFrame behavior). To access a value by position, use `ser.iloc[pos]`\n",
      "  print(f\"Volume: {today_data['Volume'][0]:,.0f}\")\n"
     ]
    },
    {
     "name": "stdout",
     "output_type": "stream",
     "text": [
      "\n",
      "Stock Information for MSFT\n",
      "========================================\n",
      "Current Price: $408.43\n",
      "Previous Close: $410.54\n",
      "Day's High: $408.91\n",
      "Day's Low: $405.88\n",
      "Volume: 22,680,000\n",
      "Market Cap: $3036.26B\n",
      "\n",
      "Last Updated: 2025-02-17 21:47:00\n",
      "\n"
     ]
    },
    {
     "name": "stderr",
     "output_type": "stream",
     "text": [
      "C:\\Users\\HomePC\\AppData\\Local\\Temp\\ipykernel_22112\\1949323000.py:30: FutureWarning: Series.__getitem__ treating keys as positions is deprecated. In a future version, integer keys will always be treated as labels (consistent with DataFrame behavior). To access a value by position, use `ser.iloc[pos]`\n",
      "  print(f\"Day's High: ${today_data['High'][0]:.2f}\")\n",
      "C:\\Users\\HomePC\\AppData\\Local\\Temp\\ipykernel_22112\\1949323000.py:31: FutureWarning: Series.__getitem__ treating keys as positions is deprecated. In a future version, integer keys will always be treated as labels (consistent with DataFrame behavior). To access a value by position, use `ser.iloc[pos]`\n",
      "  print(f\"Day's Low: ${today_data['Low'][0]:.2f}\")\n",
      "C:\\Users\\HomePC\\AppData\\Local\\Temp\\ipykernel_22112\\1949323000.py:32: FutureWarning: Series.__getitem__ treating keys as positions is deprecated. In a future version, integer keys will always be treated as labels (consistent with DataFrame behavior). To access a value by position, use `ser.iloc[pos]`\n",
      "  print(f\"Volume: {today_data['Volume'][0]:,.0f}\")\n"
     ]
    },
    {
     "name": "stdout",
     "output_type": "stream",
     "text": [
      "\n",
      "Stock Information for GOOGL\n",
      "========================================\n",
      "Current Price: $185.23\n",
      "Previous Close: $186.14\n",
      "Day's High: $186.40\n",
      "Day's Low: $184.32\n",
      "Volume: 20,402,300\n",
      "Market Cap: $2266.97B\n",
      "\n",
      "Last Updated: 2025-02-17 21:47:01\n",
      "\n",
      "Have a nice day! :)\n"
     ]
    },
    {
     "name": "stderr",
     "output_type": "stream",
     "text": [
      "C:\\Users\\HomePC\\AppData\\Local\\Temp\\ipykernel_22112\\1949323000.py:30: FutureWarning: Series.__getitem__ treating keys as positions is deprecated. In a future version, integer keys will always be treated as labels (consistent with DataFrame behavior). To access a value by position, use `ser.iloc[pos]`\n",
      "  print(f\"Day's High: ${today_data['High'][0]:.2f}\")\n",
      "C:\\Users\\HomePC\\AppData\\Local\\Temp\\ipykernel_22112\\1949323000.py:31: FutureWarning: Series.__getitem__ treating keys as positions is deprecated. In a future version, integer keys will always be treated as labels (consistent with DataFrame behavior). To access a value by position, use `ser.iloc[pos]`\n",
      "  print(f\"Day's Low: ${today_data['Low'][0]:.2f}\")\n",
      "C:\\Users\\HomePC\\AppData\\Local\\Temp\\ipykernel_22112\\1949323000.py:32: FutureWarning: Series.__getitem__ treating keys as positions is deprecated. In a future version, integer keys will always be treated as labels (consistent with DataFrame behavior). To access a value by position, use `ser.iloc[pos]`\n",
      "  print(f\"Volume: {today_data['Volume'][0]:,.0f}\")\n"
     ]
    }
   ],
   "source": [
    "symbols = ['AAPL', 'MSFT', 'GOOGL']\n",
    "\n",
    "print(\"Stock Market Information\")\n",
    "print(\"=\" * 40)\n",
    "\n",
    "for symbol in symbols:\n",
    "    get_stock_info(symbol)\n",
    "    print()\n",
    "\n",
    "print(\"Have a nice day! :)\")"
   ]
  },
  {
   "cell_type": "code",
   "execution_count": null,
   "metadata": {},
   "outputs": [],
   "source": []
  },
  {
   "cell_type": "code",
   "execution_count": null,
   "metadata": {},
   "outputs": [],
   "source": []
  }
 ],
 "metadata": {
  "kernelspec": {
   "display_name": "Python 3",
   "language": "python",
   "name": "python3"
  },
  "language_info": {
   "codemirror_mode": {
    "name": "ipython",
    "version": 3
   },
   "file_extension": ".py",
   "mimetype": "text/x-python",
   "name": "python",
   "nbconvert_exporter": "python",
   "pygments_lexer": "ipython3",
   "version": "3.11.0"
  }
 },
 "nbformat": 4,
 "nbformat_minor": 2
}
